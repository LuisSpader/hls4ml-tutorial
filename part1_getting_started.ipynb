{
 "cells": [
  {
   "cell_type": "markdown",
   "metadata": {},
   "source": [
    "# Part 1: Getting started"
   ]
  },
  {
   "cell_type": "code",
   "execution_count": 1,
   "metadata": {},
   "outputs": [],
   "source": [
    "from tensorflow.keras.utils import to_categorical\n",
    "from sklearn.datasets import fetch_openml\n",
    "from sklearn.model_selection import train_test_split\n",
    "from sklearn.preprocessing import LabelEncoder, StandardScaler\n",
    "import numpy as np\n",
    "%matplotlib inline\n",
    "seed = 0\n",
    "np.random.seed(seed)\n",
    "import tensorflow as tf\n",
    "tf.random.set_seed(seed)\n",
    "import os\n",
    "os.environ['PATH'] = '/opt/Xilinx/Vivado/2019.2/bin:' + os.environ['PATH']"
   ]
  },
  {
   "cell_type": "markdown",
   "metadata": {},
   "source": [
    "## Fetch the jet tagging dataset from Open ML"
   ]
  },
  {
   "cell_type": "code",
   "execution_count": 2,
   "metadata": {},
   "outputs": [
    {
     "name": "stderr",
     "output_type": "stream",
     "text": [
      "c:\\Users\\Jairo Luiz\\AppData\\Local\\Programs\\Python\\Python39\\lib\\site-packages\\sklearn\\datasets\\_openml.py:932: FutureWarning: The default value of `parser` will change from `'liac-arff'` to `'auto'` in 1.4. You can set `parser='auto'` to silence this warning. Therefore, an `ImportError` will be raised from 1.4 if the dataset is dense and pandas is not installed. Note that the pandas parser may return different data types. See the Notes Section in fetch_openml's API doc for details.\n",
      "  warn(\n"
     ]
    }
   ],
   "source": [
    "data = fetch_openml('hls4ml_lhc_jets_hlf')\n",
    "X, y = data['data'], data['target']"
   ]
  },
  {
   "cell_type": "markdown",
   "metadata": {},
   "source": [
    "### Let's print some information about the dataset\n",
    "Print the feature names and the dataset shape"
   ]
  },
  {
   "cell_type": "code",
   "execution_count": 3,
   "metadata": {
    "scrolled": true
   },
   "outputs": [
    {
     "name": "stdout",
     "output_type": "stream",
     "text": [
      "['zlogz', 'c1_b0_mmdt', 'c1_b1_mmdt', 'c1_b2_mmdt', 'c2_b1_mmdt', 'c2_b2_mmdt', 'd2_b1_mmdt', 'd2_b2_mmdt', 'd2_a1_b1_mmdt', 'd2_a1_b2_mmdt', 'm2_b1_mmdt', 'm2_b2_mmdt', 'n2_b1_mmdt', 'n2_b2_mmdt', 'mass_mmdt', 'multiplicity']\n",
      "(830000, 16) (830000,)\n",
      "      zlogz  c1_b0_mmdt  c1_b1_mmdt  c1_b2_mmdt  c2_b1_mmdt  c2_b2_mmdt  \\\n",
      "0 -2.935125    0.383155    0.005126    0.000084    0.009070    0.000179   \n",
      "1 -1.927335    0.270699    0.001585    0.000011    0.003232    0.000029   \n",
      "2 -3.112147    0.458171    0.097914    0.028588    0.124278    0.038487   \n",
      "3 -2.666515    0.437068    0.049122    0.007978    0.047477    0.004802   \n",
      "4 -2.484843    0.428981    0.041786    0.006110    0.023066    0.001123   \n",
      "\n",
      "   d2_b1_mmdt  d2_b2_mmdt  d2_a1_b1_mmdt  d2_a1_b2_mmdt  m2_b1_mmdt  \\\n",
      "0    1.769445    2.123898       1.769445       0.308185    0.135687   \n",
      "1    2.038834    2.563099       2.038834       0.211886    0.063729   \n",
      "2    1.269254    1.346238       1.269254       0.246488    0.115636   \n",
      "3    0.966505    0.601864       0.966505       0.160756    0.082196   \n",
      "4    0.552002    0.183821       0.552002       0.084338    0.048006   \n",
      "\n",
      "   m2_b2_mmdt  n2_b1_mmdt  n2_b2_mmdt   mass_mmdt  multiplicity  \n",
      "0    0.083278    0.412136    0.299058    8.926882          75.0  \n",
      "1    0.036310    0.310217    0.226661    3.886512          31.0  \n",
      "2    0.079094    0.357559    0.289220  162.144669          61.0  \n",
      "3    0.033311    0.238871    0.094516   91.258934          39.0  \n",
      "4    0.014450    0.141906    0.036665   79.725777          35.0  \n",
      "0    g\n",
      "1    w\n",
      "2    t\n",
      "3    z\n",
      "4    w\n",
      "Name: class, dtype: category\n",
      "Categories (5, object): ['g', 'q', 't', 'w', 'z']\n"
     ]
    }
   ],
   "source": [
    "print(data['feature_names'])\n",
    "print(X.shape, y.shape)\n",
    "print(X[:5])\n",
    "print(y[:5])"
   ]
  },
  {
   "cell_type": "markdown",
   "metadata": {},
   "source": [
    "As you saw above, the `y` target is an array of strings, e.g. \\['g', 'w',...\\] etc.\n",
    "We need to make this a \"One Hot\" encoding for the training.\n",
    "Then, split the dataset into training and validation sets"
   ]
  },
  {
   "cell_type": "code",
   "execution_count": 4,
   "metadata": {},
   "outputs": [
    {
     "name": "stdout",
     "output_type": "stream",
     "text": [
      "[[1. 0. 0. 0. 0.]\n",
      " [0. 0. 0. 1. 0.]\n",
      " [0. 0. 1. 0. 0.]\n",
      " [0. 0. 0. 0. 1.]\n",
      " [0. 0. 0. 1. 0.]]\n"
     ]
    }
   ],
   "source": [
    "le = LabelEncoder()\n",
    "y = le.fit_transform(y)\n",
    "y = to_categorical(y, 5)\n",
    "X_train_val, X_test, y_train_val, y_test = train_test_split(X, y, test_size=0.2, random_state=42)\n",
    "print(y[:5])"
   ]
  },
  {
   "cell_type": "code",
   "execution_count": 5,
   "metadata": {},
   "outputs": [],
   "source": [
    "scaler = StandardScaler()\n",
    "X_train_val = scaler.fit_transform(X_train_val)\n",
    "X_test = scaler.transform(X_test)"
   ]
  },
  {
   "cell_type": "code",
   "execution_count": 6,
   "metadata": {},
   "outputs": [],
   "source": [
    "np.save('X_train_val.npy', X_train_val)\n",
    "np.save('X_test.npy', X_test)\n",
    "np.save('y_train_val.npy', y_train_val)\n",
    "np.save('y_test.npy', y_test)\n",
    "np.save('classes.npy', le.classes_)"
   ]
  },
  {
   "cell_type": "markdown",
   "metadata": {},
   "source": [
    "## Now construct a model\n",
    "We'll use 3 hidden layers with 64, then 32, then 32 neurons. Each layer will use `relu` activation.\n",
    "Add an output layer with 5 neurons (one for each class), then finish with Softmax activation."
   ]
  },
  {
   "cell_type": "code",
   "execution_count": 7,
   "metadata": {},
   "outputs": [],
   "source": [
    "from tensorflow.keras.models import Sequential\n",
    "from tensorflow.keras.layers import Dense, Activation, BatchNormalization\n",
    "from tensorflow.keras.optimizers import Adam\n",
    "from tensorflow.keras.regularizers import l1\n",
    "from callbacks import all_callbacks"
   ]
  },
  {
   "cell_type": "code",
   "execution_count": 8,
   "metadata": {},
   "outputs": [],
   "source": [
    "model = Sequential()\n",
    "model.add(Dense(64, input_shape=(16,), name='fc1', kernel_initializer='lecun_uniform', kernel_regularizer=l1(0.0001)))\n",
    "model.add(Activation(activation='relu', name='relu1'))\n",
    "model.add(Dense(32, name='fc2', kernel_initializer='lecun_uniform', kernel_regularizer=l1(0.0001)))\n",
    "model.add(Activation(activation='relu', name='relu2'))\n",
    "model.add(Dense(32, name='fc3', kernel_initializer='lecun_uniform', kernel_regularizer=l1(0.0001)))\n",
    "model.add(Activation(activation='relu', name='relu3'))\n",
    "model.add(Dense(5, name='output', kernel_initializer='lecun_uniform', kernel_regularizer=l1(0.0001)))\n",
    "model.add(Activation(activation='softmax', name='softmax'))"
   ]
  },
  {
   "cell_type": "markdown",
   "metadata": {},
   "source": [
    "## Train the model\n",
    "We'll use Adam optimizer with categorical crossentropy loss.\n",
    "The callbacks will decay the learning rate and save the model into a directory 'model_1'\n",
    "The model isn't very complex, so this should just take a few minutes even on the CPU.\n",
    "If you've restarted the notebook kernel after training once, set `train = False` to load the trained model."
   ]
  },
  {
   "cell_type": "code",
   "execution_count": 9,
   "metadata": {},
   "outputs": [
    {
     "name": "stderr",
     "output_type": "stream",
     "text": [
      "WARNING:absl:`lr` is deprecated, please use `learning_rate` instead, or use the legacy optimizer, e.g.,tf.keras.optimizers.legacy.Adam.\n"
     ]
    },
    {
     "name": "stdout",
     "output_type": "stream",
     "text": [
      "WARNING:tensorflow:`epsilon` argument is deprecated and will be removed, use `min_delta` instead.\n"
     ]
    },
    {
     "name": "stderr",
     "output_type": "stream",
     "text": [
      "WARNING:tensorflow:`epsilon` argument is deprecated and will be removed, use `min_delta` instead.\n"
     ]
    },
    {
     "name": "stdout",
     "output_type": "stream",
     "text": [
      "WARNING:tensorflow:`period` argument is deprecated. Please use `save_freq` to specify the frequency in number of batches seen.\n"
     ]
    },
    {
     "name": "stderr",
     "output_type": "stream",
     "text": [
      "WARNING:tensorflow:`period` argument is deprecated. Please use `save_freq` to specify the frequency in number of batches seen.\n"
     ]
    },
    {
     "name": "stdout",
     "output_type": "stream",
     "text": [
      "Epoch 1/30\n",
      "  1/487 [..............................] - ETA: 10:15 - loss: 1.8206 - accuracy: 0.2070WARNING:tensorflow:Callback method `on_train_batch_end` is slow compared to the batch time (batch time: 0.0024s vs `on_train_batch_end` time: 0.0047s). Check your callbacks.\n"
     ]
    },
    {
     "name": "stderr",
     "output_type": "stream",
     "text": [
      "WARNING:tensorflow:Callback method `on_train_batch_end` is slow compared to the batch time (batch time: 0.0024s vs `on_train_batch_end` time: 0.0047s). Check your callbacks.\n"
     ]
    },
    {
     "name": "stdout",
     "output_type": "stream",
     "text": [
      "487/487 [==============================] - ETA: 0s - loss: 0.9691 - accuracy: 0.6771\n",
      "***callbacks***\n",
      "saving losses to model_1\\losses.log\n",
      "\n",
      "Epoch 1: val_loss improved from inf to 0.83345, saving model to model_1\\KERAS_check_best_model.h5\n",
      "\n",
      "Epoch 1: val_loss improved from inf to 0.83345, saving model to model_1\\KERAS_check_best_model_weights.h5\n",
      "\n",
      "Epoch 1: saving model to model_1\\KERAS_check_model_last.h5\n",
      "\n",
      "Epoch 1: saving model to model_1\\KERAS_check_model_last_weights.h5\n",
      "\n",
      "***callbacks end***\n",
      "\n",
      "487/487 [==============================] - 4s 5ms/step - loss: 0.9691 - accuracy: 0.6771 - val_loss: 0.8334 - val_accuracy: 0.7328 - lr: 0.0010\n",
      "Epoch 2/30\n",
      "473/487 [============================>.] - ETA: 0s - loss: 0.8007 - accuracy: 0.7411\n",
      "***callbacks***\n",
      "saving losses to model_1\\losses.log\n",
      "\n",
      "Epoch 2: val_loss improved from 0.83345 to 0.78505, saving model to model_1\\KERAS_check_best_model.h5\n",
      "\n",
      "Epoch 2: val_loss improved from 0.83345 to 0.78505, saving model to model_1\\KERAS_check_best_model_weights.h5\n",
      "\n",
      "Epoch 2: saving model to model_1\\KERAS_check_model_last.h5\n",
      "\n",
      "Epoch 2: saving model to model_1\\KERAS_check_model_last_weights.h5\n",
      "\n",
      "***callbacks end***\n",
      "\n",
      "487/487 [==============================] - 2s 4ms/step - loss: 0.8003 - accuracy: 0.7412 - val_loss: 0.7850 - val_accuracy: 0.7451 - lr: 0.0010\n",
      "Epoch 3/30\n",
      "473/487 [============================>.] - ETA: 0s - loss: 0.7694 - accuracy: 0.7493\n",
      "***callbacks***\n",
      "saving losses to model_1\\losses.log\n",
      "\n",
      "Epoch 3: val_loss improved from 0.78505 to 0.76576, saving model to model_1\\KERAS_check_best_model.h5\n",
      "\n",
      "Epoch 3: val_loss improved from 0.78505 to 0.76576, saving model to model_1\\KERAS_check_best_model_weights.h5\n",
      "\n",
      "Epoch 3: saving model to model_1\\KERAS_check_model_last.h5\n",
      "\n",
      "Epoch 3: saving model to model_1\\KERAS_check_model_last_weights.h5\n",
      "\n",
      "***callbacks end***\n",
      "\n",
      "487/487 [==============================] - 2s 4ms/step - loss: 0.7692 - accuracy: 0.7493 - val_loss: 0.7658 - val_accuracy: 0.7493 - lr: 0.0010\n",
      "Epoch 4/30\n",
      "477/487 [============================>.] - ETA: 0s - loss: 0.7503 - accuracy: 0.7538\n",
      "***callbacks***\n",
      "saving losses to model_1\\losses.log\n",
      "\n",
      "Epoch 4: val_loss improved from 0.76576 to 0.74767, saving model to model_1\\KERAS_check_best_model.h5\n",
      "\n",
      "Epoch 4: val_loss improved from 0.76576 to 0.74767, saving model to model_1\\KERAS_check_best_model_weights.h5\n",
      "\n",
      "Epoch 4: saving model to model_1\\KERAS_check_model_last.h5\n",
      "\n",
      "Epoch 4: saving model to model_1\\KERAS_check_model_last_weights.h5\n",
      "\n",
      "***callbacks end***\n",
      "\n",
      "487/487 [==============================] - 2s 4ms/step - loss: 0.7502 - accuracy: 0.7539 - val_loss: 0.7477 - val_accuracy: 0.7543 - lr: 0.0010\n",
      "Epoch 5/30\n",
      "484/487 [============================>.] - ETA: 0s - loss: 0.7376 - accuracy: 0.7569\n",
      "***callbacks***\n",
      "saving losses to model_1\\losses.log\n",
      "\n",
      "Epoch 5: val_loss improved from 0.74767 to 0.73802, saving model to model_1\\KERAS_check_best_model.h5\n",
      "\n",
      "Epoch 5: val_loss improved from 0.74767 to 0.73802, saving model to model_1\\KERAS_check_best_model_weights.h5\n",
      "\n",
      "Epoch 5: saving model to model_1\\KERAS_check_model_last.h5\n",
      "\n",
      "Epoch 5: saving model to model_1\\KERAS_check_model_last_weights.h5\n",
      "\n",
      "***callbacks end***\n",
      "\n",
      "487/487 [==============================] - 3s 5ms/step - loss: 0.7376 - accuracy: 0.7569 - val_loss: 0.7380 - val_accuracy: 0.7564 - lr: 0.0010\n",
      "Epoch 6/30\n",
      "486/487 [============================>.] - ETA: 0s - loss: 0.7292 - accuracy: 0.7591\n",
      "***callbacks***\n",
      "saving losses to model_1\\losses.log\n",
      "\n",
      "Epoch 6: val_loss improved from 0.73802 to 0.73046, saving model to model_1\\KERAS_check_best_model.h5\n",
      "\n",
      "Epoch 6: val_loss improved from 0.73802 to 0.73046, saving model to model_1\\KERAS_check_best_model_weights.h5\n",
      "\n",
      "Epoch 6: saving model to model_1\\KERAS_check_model_last.h5\n",
      "\n",
      "Epoch 6: saving model to model_1\\KERAS_check_model_last_weights.h5\n",
      "\n",
      "***callbacks end***\n",
      "\n",
      "487/487 [==============================] - 3s 6ms/step - loss: 0.7292 - accuracy: 0.7590 - val_loss: 0.7305 - val_accuracy: 0.7588 - lr: 0.0010\n",
      "Epoch 7/30\n",
      "480/487 [============================>.] - ETA: 0s - loss: 0.7235 - accuracy: 0.7603\n",
      "***callbacks***\n",
      "saving losses to model_1\\losses.log\n",
      "\n",
      "Epoch 7: val_loss improved from 0.73046 to 0.72576, saving model to model_1\\KERAS_check_best_model.h5\n",
      "\n",
      "Epoch 7: val_loss improved from 0.73046 to 0.72576, saving model to model_1\\KERAS_check_best_model_weights.h5\n",
      "\n",
      "Epoch 7: saving model to model_1\\KERAS_check_model_last.h5\n",
      "\n",
      "Epoch 7: saving model to model_1\\KERAS_check_model_last_weights.h5\n",
      "\n",
      "***callbacks end***\n",
      "\n",
      "487/487 [==============================] - 3s 7ms/step - loss: 0.7235 - accuracy: 0.7603 - val_loss: 0.7258 - val_accuracy: 0.7597 - lr: 0.0010\n",
      "Epoch 8/30\n",
      "483/487 [============================>.] - ETA: 0s - loss: 0.7188 - accuracy: 0.7615\n",
      "***callbacks***\n",
      "saving losses to model_1\\losses.log\n",
      "\n",
      "Epoch 8: val_loss improved from 0.72576 to 0.72282, saving model to model_1\\KERAS_check_best_model.h5\n",
      "\n",
      "Epoch 8: val_loss improved from 0.72576 to 0.72282, saving model to model_1\\KERAS_check_best_model_weights.h5\n",
      "\n",
      "Epoch 8: saving model to model_1\\KERAS_check_model_last.h5\n",
      "\n",
      "Epoch 8: saving model to model_1\\KERAS_check_model_last_weights.h5\n",
      "\n",
      "***callbacks end***\n",
      "\n",
      "487/487 [==============================] - 3s 6ms/step - loss: 0.7188 - accuracy: 0.7615 - val_loss: 0.7228 - val_accuracy: 0.7600 - lr: 0.0010\n",
      "Epoch 9/30\n",
      "485/487 [============================>.] - ETA: 0s - loss: 0.7149 - accuracy: 0.7625\n",
      "***callbacks***\n",
      "saving losses to model_1\\losses.log\n",
      "\n",
      "Epoch 9: val_loss improved from 0.72282 to 0.71937, saving model to model_1\\KERAS_check_best_model.h5\n",
      "\n",
      "Epoch 9: val_loss improved from 0.72282 to 0.71937, saving model to model_1\\KERAS_check_best_model_weights.h5\n",
      "\n",
      "Epoch 9: saving model to model_1\\KERAS_check_model_last.h5\n",
      "\n",
      "Epoch 9: saving model to model_1\\KERAS_check_model_last_weights.h5\n",
      "\n",
      "***callbacks end***\n",
      "\n",
      "487/487 [==============================] - 2s 5ms/step - loss: 0.7148 - accuracy: 0.7625 - val_loss: 0.7194 - val_accuracy: 0.7602 - lr: 0.0010\n",
      "Epoch 10/30\n",
      "479/487 [============================>.] - ETA: 0s - loss: 0.7121 - accuracy: 0.7628\n",
      "***callbacks***\n",
      "saving losses to model_1\\losses.log\n",
      "\n",
      "Epoch 10: val_loss did not improve from 0.71937\n",
      "\n",
      "Epoch 10: val_loss did not improve from 0.71937\n",
      "\n",
      "Epoch 10: saving model to model_1\\KERAS_check_model_last.h5\n",
      "\n",
      "Epoch 10: saving model to model_1\\KERAS_check_model_last_weights.h5\n",
      "\n",
      "Epoch 10: saving model to model_1\\KERAS_check_model_epoch10.h5\n",
      "\n",
      "***callbacks end***\n",
      "\n",
      "487/487 [==============================] - 2s 5ms/step - loss: 0.7122 - accuracy: 0.7628 - val_loss: 0.7212 - val_accuracy: 0.7601 - lr: 0.0010\n",
      "Epoch 11/30\n",
      "476/487 [============================>.] - ETA: 0s - loss: 0.7101 - accuracy: 0.7630\n",
      "***callbacks***\n",
      "saving losses to model_1\\losses.log\n",
      "\n",
      "Epoch 11: val_loss improved from 0.71937 to 0.71428, saving model to model_1\\KERAS_check_best_model.h5\n",
      "\n",
      "Epoch 11: val_loss improved from 0.71937 to 0.71428, saving model to model_1\\KERAS_check_best_model_weights.h5\n",
      "\n",
      "Epoch 11: saving model to model_1\\KERAS_check_model_last.h5\n",
      "\n",
      "Epoch 11: saving model to model_1\\KERAS_check_model_last_weights.h5\n",
      "\n",
      "***callbacks end***\n",
      "\n",
      "487/487 [==============================] - 2s 4ms/step - loss: 0.7099 - accuracy: 0.7632 - val_loss: 0.7143 - val_accuracy: 0.7617 - lr: 0.0010\n",
      "Epoch 12/30\n",
      "487/487 [==============================] - ETA: 0s - loss: 0.7075 - accuracy: 0.7641\n",
      "***callbacks***\n",
      "saving losses to model_1\\losses.log\n",
      "\n",
      "Epoch 12: val_loss improved from 0.71428 to 0.71111, saving model to model_1\\KERAS_check_best_model.h5\n",
      "\n",
      "Epoch 12: val_loss improved from 0.71428 to 0.71111, saving model to model_1\\KERAS_check_best_model_weights.h5\n",
      "\n",
      "Epoch 12: saving model to model_1\\KERAS_check_model_last.h5\n",
      "\n",
      "Epoch 12: saving model to model_1\\KERAS_check_model_last_weights.h5\n",
      "\n",
      "***callbacks end***\n",
      "\n",
      "487/487 [==============================] - 2s 5ms/step - loss: 0.7075 - accuracy: 0.7641 - val_loss: 0.7111 - val_accuracy: 0.7626 - lr: 0.0010\n",
      "Epoch 13/30\n",
      "481/487 [============================>.] - ETA: 0s - loss: 0.7051 - accuracy: 0.7643\n",
      "***callbacks***\n",
      "saving losses to model_1\\losses.log\n",
      "\n",
      "Epoch 13: val_loss improved from 0.71111 to 0.70880, saving model to model_1\\KERAS_check_best_model.h5\n",
      "\n",
      "Epoch 13: val_loss improved from 0.71111 to 0.70880, saving model to model_1\\KERAS_check_best_model_weights.h5\n",
      "\n",
      "Epoch 13: saving model to model_1\\KERAS_check_model_last.h5\n",
      "\n",
      "Epoch 13: saving model to model_1\\KERAS_check_model_last_weights.h5\n",
      "\n",
      "***callbacks end***\n",
      "\n",
      "487/487 [==============================] - 2s 4ms/step - loss: 0.7052 - accuracy: 0.7643 - val_loss: 0.7088 - val_accuracy: 0.7630 - lr: 0.0010\n",
      "Epoch 14/30\n",
      "473/487 [============================>.] - ETA: 0s - loss: 0.7037 - accuracy: 0.7643\n",
      "***callbacks***\n",
      "saving losses to model_1\\losses.log\n",
      "\n",
      "Epoch 14: val_loss improved from 0.70880 to 0.70860, saving model to model_1\\KERAS_check_best_model.h5\n",
      "\n",
      "Epoch 14: val_loss improved from 0.70880 to 0.70860, saving model to model_1\\KERAS_check_best_model_weights.h5\n",
      "\n",
      "Epoch 14: saving model to model_1\\KERAS_check_model_last.h5\n",
      "\n",
      "Epoch 14: saving model to model_1\\KERAS_check_model_last_weights.h5\n",
      "\n",
      "***callbacks end***\n",
      "\n",
      "487/487 [==============================] - 2s 4ms/step - loss: 0.7038 - accuracy: 0.7642 - val_loss: 0.7086 - val_accuracy: 0.7626 - lr: 0.0010\n",
      "Epoch 15/30\n",
      "484/487 [============================>.] - ETA: 0s - loss: 0.7025 - accuracy: 0.7645\n",
      "***callbacks***\n",
      "saving losses to model_1\\losses.log\n",
      "\n",
      "Epoch 15: val_loss improved from 0.70860 to 0.70591, saving model to model_1\\KERAS_check_best_model.h5\n",
      "\n",
      "Epoch 15: val_loss improved from 0.70860 to 0.70591, saving model to model_1\\KERAS_check_best_model_weights.h5\n",
      "\n",
      "Epoch 15: saving model to model_1\\KERAS_check_model_last.h5\n",
      "\n",
      "Epoch 15: saving model to model_1\\KERAS_check_model_last_weights.h5\n",
      "\n",
      "***callbacks end***\n",
      "\n",
      "487/487 [==============================] - 2s 4ms/step - loss: 0.7025 - accuracy: 0.7646 - val_loss: 0.7059 - val_accuracy: 0.7629 - lr: 0.0010\n",
      "Epoch 16/30\n",
      "487/487 [==============================] - ETA: 0s - loss: 0.7007 - accuracy: 0.7648\n",
      "***callbacks***\n",
      "saving losses to model_1\\losses.log\n",
      "\n",
      "Epoch 16: val_loss did not improve from 0.70591\n",
      "\n",
      "Epoch 16: val_loss did not improve from 0.70591\n",
      "\n",
      "Epoch 16: saving model to model_1\\KERAS_check_model_last.h5\n",
      "\n",
      "Epoch 16: saving model to model_1\\KERAS_check_model_last_weights.h5\n",
      "\n",
      "***callbacks end***\n",
      "\n",
      "487/487 [==============================] - 2s 4ms/step - loss: 0.7007 - accuracy: 0.7648 - val_loss: 0.7089 - val_accuracy: 0.7623 - lr: 0.0010\n",
      "Epoch 17/30\n",
      "476/487 [============================>.] - ETA: 0s - loss: 0.6997 - accuracy: 0.7649\n",
      "***callbacks***\n",
      "saving losses to model_1\\losses.log\n",
      "\n",
      "Epoch 17: val_loss improved from 0.70591 to 0.70387, saving model to model_1\\KERAS_check_best_model.h5\n",
      "\n",
      "Epoch 17: val_loss improved from 0.70591 to 0.70387, saving model to model_1\\KERAS_check_best_model_weights.h5\n",
      "\n",
      "Epoch 17: saving model to model_1\\KERAS_check_model_last.h5\n",
      "\n",
      "Epoch 17: saving model to model_1\\KERAS_check_model_last_weights.h5\n",
      "\n",
      "***callbacks end***\n",
      "\n",
      "487/487 [==============================] - 2s 4ms/step - loss: 0.6999 - accuracy: 0.7648 - val_loss: 0.7039 - val_accuracy: 0.7633 - lr: 0.0010\n",
      "Epoch 18/30\n",
      "485/487 [============================>.] - ETA: 0s - loss: 0.6978 - accuracy: 0.7655\n",
      "***callbacks***\n",
      "saving losses to model_1\\losses.log\n",
      "\n",
      "Epoch 18: val_loss improved from 0.70387 to 0.70347, saving model to model_1\\KERAS_check_best_model.h5\n",
      "\n",
      "Epoch 18: val_loss improved from 0.70387 to 0.70347, saving model to model_1\\KERAS_check_best_model_weights.h5\n",
      "\n",
      "Epoch 18: saving model to model_1\\KERAS_check_model_last.h5\n",
      "\n",
      "Epoch 18: saving model to model_1\\KERAS_check_model_last_weights.h5\n",
      "\n",
      "***callbacks end***\n",
      "\n",
      "487/487 [==============================] - 2s 4ms/step - loss: 0.6980 - accuracy: 0.7654 - val_loss: 0.7035 - val_accuracy: 0.7629 - lr: 0.0010\n",
      "Epoch 19/30\n",
      "483/487 [============================>.] - ETA: 0s - loss: 0.6973 - accuracy: 0.7650\n",
      "***callbacks***\n",
      "saving losses to model_1\\losses.log\n",
      "\n",
      "Epoch 19: val_loss improved from 0.70347 to 0.70280, saving model to model_1\\KERAS_check_best_model.h5\n",
      "\n",
      "Epoch 19: val_loss improved from 0.70347 to 0.70280, saving model to model_1\\KERAS_check_best_model_weights.h5\n",
      "\n",
      "Epoch 19: saving model to model_1\\KERAS_check_model_last.h5\n",
      "\n",
      "Epoch 19: saving model to model_1\\KERAS_check_model_last_weights.h5\n",
      "\n",
      "***callbacks end***\n",
      "\n",
      "487/487 [==============================] - 2s 4ms/step - loss: 0.6971 - accuracy: 0.7651 - val_loss: 0.7028 - val_accuracy: 0.7633 - lr: 0.0010\n",
      "Epoch 20/30\n",
      "472/487 [============================>.] - ETA: 0s - loss: 0.6960 - accuracy: 0.7656\n",
      "***callbacks***\n",
      "saving losses to model_1\\losses.log\n",
      "\n",
      "Epoch 20: val_loss improved from 0.70280 to 0.70132, saving model to model_1\\KERAS_check_best_model.h5\n",
      "\n",
      "Epoch 20: val_loss improved from 0.70280 to 0.70132, saving model to model_1\\KERAS_check_best_model_weights.h5\n",
      "\n",
      "Epoch 20: saving model to model_1\\KERAS_check_model_last.h5\n",
      "\n",
      "Epoch 20: saving model to model_1\\KERAS_check_model_last_weights.h5\n",
      "\n",
      "Epoch 20: saving model to model_1\\KERAS_check_model_epoch20.h5\n",
      "\n",
      "***callbacks end***\n",
      "\n",
      "487/487 [==============================] - 2s 4ms/step - loss: 0.6958 - accuracy: 0.7655 - val_loss: 0.7013 - val_accuracy: 0.7634 - lr: 0.0010\n",
      "Epoch 21/30\n",
      "483/487 [============================>.] - ETA: 0s - loss: 0.6947 - accuracy: 0.7659\n",
      "***callbacks***\n",
      "saving losses to model_1\\losses.log\n",
      "\n",
      "Epoch 21: val_loss improved from 0.70132 to 0.69975, saving model to model_1\\KERAS_check_best_model.h5\n",
      "\n",
      "Epoch 21: val_loss improved from 0.70132 to 0.69975, saving model to model_1\\KERAS_check_best_model_weights.h5\n",
      "\n",
      "Epoch 21: saving model to model_1\\KERAS_check_model_last.h5\n",
      "\n",
      "Epoch 21: saving model to model_1\\KERAS_check_model_last_weights.h5\n",
      "\n",
      "***callbacks end***\n",
      "\n",
      "487/487 [==============================] - 2s 4ms/step - loss: 0.6947 - accuracy: 0.7659 - val_loss: 0.6997 - val_accuracy: 0.7638 - lr: 0.0010\n",
      "Epoch 22/30\n",
      "475/487 [============================>.] - ETA: 0s - loss: 0.6944 - accuracy: 0.7656\n",
      "***callbacks***\n",
      "saving losses to model_1\\losses.log\n",
      "\n",
      "Epoch 22: val_loss improved from 0.69975 to 0.69954, saving model to model_1\\KERAS_check_best_model.h5\n",
      "\n",
      "Epoch 22: val_loss improved from 0.69975 to 0.69954, saving model to model_1\\KERAS_check_best_model_weights.h5\n",
      "\n",
      "Epoch 22: saving model to model_1\\KERAS_check_model_last.h5\n",
      "\n",
      "Epoch 22: saving model to model_1\\KERAS_check_model_last_weights.h5\n",
      "\n",
      "***callbacks end***\n",
      "\n",
      "487/487 [==============================] - 2s 4ms/step - loss: 0.6942 - accuracy: 0.7657 - val_loss: 0.6995 - val_accuracy: 0.7637 - lr: 0.0010\n",
      "Epoch 23/30\n",
      "470/487 [===========================>..] - ETA: 0s - loss: 0.6939 - accuracy: 0.7657\n",
      "***callbacks***\n",
      "saving losses to model_1\\losses.log\n",
      "\n",
      "Epoch 23: val_loss improved from 0.69954 to 0.69734, saving model to model_1\\KERAS_check_best_model.h5\n",
      "\n",
      "Epoch 23: val_loss improved from 0.69954 to 0.69734, saving model to model_1\\KERAS_check_best_model_weights.h5\n",
      "\n",
      "Epoch 23: saving model to model_1\\KERAS_check_model_last.h5\n",
      "\n",
      "Epoch 23: saving model to model_1\\KERAS_check_model_last_weights.h5\n",
      "\n",
      "***callbacks end***\n",
      "\n",
      "487/487 [==============================] - 2s 4ms/step - loss: 0.6936 - accuracy: 0.7657 - val_loss: 0.6973 - val_accuracy: 0.7647 - lr: 0.0010\n",
      "Epoch 24/30\n",
      "486/487 [============================>.] - ETA: 0s - loss: 0.6922 - accuracy: 0.7662\n",
      "***callbacks***\n",
      "saving losses to model_1\\losses.log\n",
      "\n",
      "Epoch 24: val_loss did not improve from 0.69734\n",
      "\n",
      "Epoch 24: val_loss did not improve from 0.69734\n",
      "\n",
      "Epoch 24: saving model to model_1\\KERAS_check_model_last.h5\n",
      "\n",
      "Epoch 24: saving model to model_1\\KERAS_check_model_last_weights.h5\n",
      "\n",
      "***callbacks end***\n",
      "\n",
      "487/487 [==============================] - 2s 4ms/step - loss: 0.6922 - accuracy: 0.7662 - val_loss: 0.6987 - val_accuracy: 0.7644 - lr: 0.0010\n",
      "Epoch 25/30\n",
      "481/487 [============================>.] - ETA: 0s - loss: 0.6914 - accuracy: 0.7663\n",
      "***callbacks***\n",
      "saving losses to model_1\\losses.log\n",
      "\n",
      "Epoch 25: val_loss did not improve from 0.69734\n",
      "\n",
      "Epoch 25: val_loss did not improve from 0.69734\n",
      "\n",
      "Epoch 25: saving model to model_1\\KERAS_check_model_last.h5\n",
      "\n",
      "Epoch 25: saving model to model_1\\KERAS_check_model_last_weights.h5\n",
      "\n",
      "***callbacks end***\n",
      "\n",
      "487/487 [==============================] - 2s 5ms/step - loss: 0.6915 - accuracy: 0.7662 - val_loss: 0.7002 - val_accuracy: 0.7625 - lr: 0.0010\n",
      "Epoch 26/30\n",
      "485/487 [============================>.] - ETA: 0s - loss: 0.6913 - accuracy: 0.7660\n",
      "***callbacks***\n",
      "saving losses to model_1\\losses.log\n",
      "\n",
      "Epoch 26: val_loss did not improve from 0.69734\n",
      "\n",
      "Epoch 26: val_loss did not improve from 0.69734\n",
      "\n",
      "Epoch 26: saving model to model_1\\KERAS_check_model_last.h5\n",
      "\n",
      "Epoch 26: saving model to model_1\\KERAS_check_model_last_weights.h5\n",
      "\n",
      "***callbacks end***\n",
      "\n",
      "487/487 [==============================] - 2s 4ms/step - loss: 0.6914 - accuracy: 0.7660 - val_loss: 0.6978 - val_accuracy: 0.7636 - lr: 0.0010\n",
      "Epoch 27/30\n",
      "476/487 [============================>.] - ETA: 0s - loss: 0.6901 - accuracy: 0.7665\n",
      "***callbacks***\n",
      "saving losses to model_1\\losses.log\n",
      "\n",
      "Epoch 27: val_loss improved from 0.69734 to 0.69543, saving model to model_1\\KERAS_check_best_model.h5\n",
      "\n",
      "Epoch 27: val_loss improved from 0.69734 to 0.69543, saving model to model_1\\KERAS_check_best_model_weights.h5\n",
      "\n",
      "Epoch 27: saving model to model_1\\KERAS_check_model_last.h5\n",
      "\n",
      "Epoch 27: saving model to model_1\\KERAS_check_model_last_weights.h5\n",
      "\n",
      "***callbacks end***\n",
      "\n",
      "487/487 [==============================] - 2s 4ms/step - loss: 0.6897 - accuracy: 0.7666 - val_loss: 0.6954 - val_accuracy: 0.7647 - lr: 0.0010\n",
      "Epoch 28/30\n",
      "486/487 [============================>.] - ETA: 0s - loss: 0.6892 - accuracy: 0.7666\n",
      "***callbacks***\n",
      "saving losses to model_1\\losses.log\n",
      "\n",
      "Epoch 28: val_loss improved from 0.69543 to 0.69456, saving model to model_1\\KERAS_check_best_model.h5\n",
      "\n",
      "Epoch 28: val_loss improved from 0.69543 to 0.69456, saving model to model_1\\KERAS_check_best_model_weights.h5\n",
      "\n",
      "Epoch 28: saving model to model_1\\KERAS_check_model_last.h5\n",
      "\n",
      "Epoch 28: saving model to model_1\\KERAS_check_model_last_weights.h5\n",
      "\n",
      "***callbacks end***\n",
      "\n",
      "487/487 [==============================] - 2s 5ms/step - loss: 0.6891 - accuracy: 0.7666 - val_loss: 0.6946 - val_accuracy: 0.7640 - lr: 0.0010\n",
      "Epoch 29/30\n",
      "471/487 [============================>.] - ETA: 0s - loss: 0.6889 - accuracy: 0.7667\n",
      "***callbacks***\n",
      "saving losses to model_1\\losses.log\n",
      "\n",
      "Epoch 29: val_loss did not improve from 0.69456\n",
      "\n",
      "Epoch 29: val_loss did not improve from 0.69456\n",
      "\n",
      "Epoch 29: saving model to model_1\\KERAS_check_model_last.h5\n",
      "\n",
      "Epoch 29: saving model to model_1\\KERAS_check_model_last_weights.h5\n",
      "\n",
      "***callbacks end***\n",
      "\n",
      "487/487 [==============================] - 2s 4ms/step - loss: 0.6889 - accuracy: 0.7666 - val_loss: 0.6952 - val_accuracy: 0.7636 - lr: 0.0010\n",
      "Epoch 30/30\n",
      "485/487 [============================>.] - ETA: 0s - loss: 0.6885 - accuracy: 0.7664\n",
      "***callbacks***\n",
      "saving losses to model_1\\losses.log\n",
      "\n",
      "Epoch 30: val_loss did not improve from 0.69456\n",
      "\n",
      "Epoch 30: val_loss did not improve from 0.69456\n",
      "\n",
      "Epoch 30: saving model to model_1\\KERAS_check_model_last.h5\n",
      "\n",
      "Epoch 30: saving model to model_1\\KERAS_check_model_last_weights.h5\n",
      "\n",
      "Epoch 30: saving model to model_1\\KERAS_check_model_epoch30.h5\n",
      "\n",
      "***callbacks end***\n",
      "\n",
      "487/487 [==============================] - 2s 4ms/step - loss: 0.6885 - accuracy: 0.7664 - val_loss: 0.6946 - val_accuracy: 0.7641 - lr: 0.0010\n"
     ]
    }
   ],
   "source": [
    "train = True\n",
    "if train:\n",
    "    adam = Adam(lr=0.0001)\n",
    "    model.compile(optimizer=adam, loss=['categorical_crossentropy'], metrics=['accuracy'])\n",
    "    callbacks = all_callbacks(stop_patience = 1000,\n",
    "                              lr_factor = 0.5,\n",
    "                              lr_patience = 10,\n",
    "                              lr_epsilon = 0.000001,\n",
    "                              lr_cooldown = 2,\n",
    "                              lr_minimum = 0.0000001,\n",
    "                              outputDir = 'model_1')\n",
    "    model.fit(X_train_val, y_train_val, batch_size=1024,\n",
    "              epochs=30, validation_split=0.25, shuffle=True,\n",
    "              callbacks = callbacks.callbacks)\n",
    "else:\n",
    "    from tensorflow.keras.models import load_model\n",
    "    model = load_model('model_1/KERAS_check_best_model.h5')"
   ]
  },
  {
   "cell_type": "markdown",
   "metadata": {},
   "source": [
    "## Check performance\n",
    "Check the accuracy and make a ROC curve"
   ]
  },
  {
   "cell_type": "code",
   "execution_count": 10,
   "metadata": {},
   "outputs": [
    {
     "name": "stdout",
     "output_type": "stream",
     "text": [
      "5188/5188 [==============================] - 6s 1ms/step\n",
      "Accuracy: 0.7638012048192772\n"
     ]
    },
    {
     "data": {
      "image/png": "[encoded data removed]",
      "text/plain": [
       "<Figure size 648x648 with 1 Axes>"
      ]
     },
     "metadata": {
      "needs_background": "light"
     },
     "output_type": "display_data"
    }
   ],
   "source": [
    "import plotting\n",
    "import matplotlib.pyplot as plt\n",
    "from sklearn.metrics import accuracy_score\n",
    "y_keras = model.predict(X_test)\n",
    "print(\"Accuracy: {}\".format(accuracy_score(np.argmax(y_test, axis=1), np.argmax(y_keras, axis=1))))\n",
    "plt.figure(figsize=(9,9))\n",
    "_ = plotting.makeRoc(y_test, y_keras, le.classes_)"
   ]
  },
  {
   "cell_type": "markdown",
   "metadata": {},
   "source": [
    "# Convert the model to FPGA firmware with hls4ml\n",
    "Now we will go through the steps to convert the model we trained to a low-latency optimized FPGA firmware with hls4ml.\n",
    "First, we will evaluate its classification performance to make sure we haven't lost accuracy using the fixed-point data types. \n",
    "Then we will synthesize the model with Vivado HLS and check the metrics of latency and FPGA resource usage.\n",
    "\n",
    "## Make an hls4ml config & model\n",
    "The hls4ml Neural Network inference library is controlled through a configuration dictionary.\n",
    "In this example we'll use the most simple variation, later exercises will look at more advanced configuration."
   ]
  },
  {
   "cell_type": "code",
   "execution_count": 11,
   "metadata": {},
   "outputs": [
    {
     "name": "stdout",
     "output_type": "stream",
     "text": [
      "Interpreting Sequential\n",
      "Topology:\n",
      "Layer name: fc1_input, layer type: Input\n",
      "Layer name: fc1, layer type: Dense\n",
      "  -> Activation (linear), layer name: fc1\n",
      "Layer name: relu1, layer type: Activation\n",
      "Layer name: fc2, layer type: Dense\n",
      "  -> Activation (linear), layer name: fc2\n",
      "Layer name: relu2, layer type: Activation\n",
      "Layer name: fc3, layer type: Dense\n",
      "  -> Activation (linear), layer name: fc3\n",
      "Layer name: relu3, layer type: Activation\n",
      "Layer name: output, layer type: Dense\n",
      "  -> Activation (linear), layer name: output\n",
      "Layer name: softmax, layer type: Activation\n",
      "-----------------------------------\n",
      "Configuration\n",
      "Model\n",
      "  Precision:         ap_fixed<16,6>\n",
      "  ReuseFactor:       1\n",
      "  Strategy:          Latency\n",
      "-----------------------------------\n",
      "Interpreting Sequential\n",
      "Topology:\n",
      "Layer name: fc1_input, layer type: InputLayer, input shapes: [[None, 16]], output shape: [None, 16]\n",
      "Layer name: fc1, layer type: Dense, input shapes: [[None, 16]], output shape: [None, 64]\n",
      "Layer name: relu1, layer type: Activation, input shapes: [[None, 64]], output shape: [None, 64]\n",
      "Layer name: fc2, layer type: Dense, input shapes: [[None, 64]], output shape: [None, 32]\n",
      "Layer name: relu2, layer type: Activation, input shapes: [[None, 32]], output shape: [None, 32]\n",
      "Layer name: fc3, layer type: Dense, input shapes: [[None, 32]], output shape: [None, 32]\n",
      "Layer name: relu3, layer type: Activation, input shapes: [[None, 32]], output shape: [None, 32]\n",
      "Layer name: output, layer type: Dense, input shapes: [[None, 32]], output shape: [None, 5]\n",
      "Layer name: softmax, layer type: Softmax, input shapes: [[None, 5]], output shape: [None, 5]\n",
      "Creating HLS model\n"
     ]
    },
    {
     "name": "stderr",
     "output_type": "stream",
     "text": [
      "c:\\Users\\Jairo Luiz\\AppData\\Local\\Programs\\Python\\Python39\\lib\\site-packages\\hls4ml\\converters\\__init__.py:16: UserWarning: WARNING: Pytorch converter is not enabled!\n",
      "  warnings.warn(\"WARNING: Pytorch converter is not enabled!\")\n"
     ]
    }
   ],
   "source": [
    "import hls4ml\n",
    "config = hls4ml.utils.config_from_keras_model(model, granularity='model')\n",
    "print(\"-----------------------------------\")\n",
    "print(\"Configuration\")\n",
    "plotting.print_dict(config)\n",
    "print(\"-----------------------------------\")\n",
    "hls_model = hls4ml.converters.convert_from_keras_model(model,\n",
    "                                                       hls_config=config,\n",
    "                                                       output_dir='model_1/hls4ml_prj',\n",
    "                                                       part='xcu250-figd2104-2L-e')"
   ]
  },
  {
   "cell_type": "markdown",
   "metadata": {},
   "source": [
    "Let's visualise what we created. The model architecture is shown, annotated with the shape and data types"
   ]
  },
  {
   "cell_type": "code",
   "execution_count": 12,
   "metadata": {},
   "outputs": [],
   "source": [
    "# path_old = 'C:\\\\Users\\\\JAIROL~1\\\\AppData\\\\Local\\\\Temp\\\\tmpurv_n5lm.png'\n",
    "# file_buff = path_old.split('\\\\')[-1:][0]\n",
    "# patht= 'C:/Users/Jairo Luiz/AppData/Local/Temp/'\n",
    "\n",
    "# patht = ''.join(map(str, [patht, file_buff])) #text_list can be an splitted text or a list of texts\n",
    "# patht"
   ]
  },
  {
   "cell_type": "code",
   "execution_count": 13,
   "metadata": {},
   "outputs": [],
   "source": [
    "# patht= 'C:/Users/Jairo Luiz/AppData/Local/Temp/'\n",
    "patht= './images/img/'"
   ]
  },
  {
   "cell_type": "code",
   "execution_count": 14,
   "metadata": {},
   "outputs": [
    {
     "ename": "PermissionError",
     "evalue": "[Errno 13] Permission denied: 'C:\\\\Users\\\\JAIROL~1\\\\AppData\\\\Local\\\\Temp\\\\tmpcl1xx_bf.png'",
     "output_type": "error",
     "traceback": [
      "\u001b[1;31m---------------------------------------------------------------------------\u001b[0m",
      "\u001b[1;31mPermissionError\u001b[0m                           Traceback (most recent call last)",
      "\u001b[1;32mc:\\Users\\Jairo Luiz\\OneDrive\\Desktop\\hls4ml-tutorial\\part1_getting_started.ipynb Cell 23\u001b[0m in \u001b[0;36m<cell line: 1>\u001b[1;34m()\u001b[0m\n\u001b[1;32m----> <a href='vscode-notebook-cell:/c%3A/Users/Jairo%20Luiz/OneDrive/Desktop/hls4ml-tutorial/part1_getting_started.ipynb#X31sZmlsZQ%3D%3D?line=0'>1</a>\u001b[0m hls4ml\u001b[39m.\u001b[39;49mutils\u001b[39m.\u001b[39;49mplot_model(hls_model, patht\u001b[39m=\u001b[39;49mpatht, show_shapes\u001b[39m=\u001b[39;49m\u001b[39mTrue\u001b[39;49;00m, show_precision\u001b[39m=\u001b[39;49m\u001b[39mTrue\u001b[39;49;00m, to_file\u001b[39m=\u001b[39;49m\u001b[39mNone\u001b[39;49;00m)\n",
      "File \u001b[1;32mc:\\Users\\Jairo Luiz\\AppData\\Local\\Programs\\Python\\Python39\\lib\\site-packages\\hls4ml\\utils\\plot.py:243\u001b[0m, in \u001b[0;36mplot_model\u001b[1;34m(model, to_file, show_shapes, show_layer_names, show_precision, rankdir, dpi, patht)\u001b[0m\n\u001b[0;32m    240\u001b[0m     \u001b[39melse\u001b[39;00m:\n\u001b[0;32m    241\u001b[0m         dot\u001b[39m.\u001b[39mwrite(temp\u001b[39m.\u001b[39mname, patht\u001b[39m=\u001b[39mpatht, \u001b[39mformat\u001b[39m\u001b[39m=\u001b[39m\u001b[39m'\u001b[39m\u001b[39mpng\u001b[39m\u001b[39m'\u001b[39m)\n\u001b[1;32m--> 243\u001b[0m     \u001b[39mreturn\u001b[39;00m display\u001b[39m.\u001b[39;49mImage(filename\u001b[39m=\u001b[39;49mtemp\u001b[39m.\u001b[39;49mname)\n\u001b[0;32m    244\u001b[0m \u001b[39mexcept\u001b[39;00m \u001b[39mImportError\u001b[39;00m:\n\u001b[0;32m    245\u001b[0m     \u001b[39mpass\u001b[39;00m\n",
      "File \u001b[1;32m~\\AppData\\Roaming\\Python\\Python39\\site-packages\\IPython\\core\\display.py:957\u001b[0m, in \u001b[0;36mImage.__init__\u001b[1;34m(self, data, url, filename, format, embed, width, height, retina, unconfined, metadata, alt)\u001b[0m\n\u001b[0;32m    955\u001b[0m \u001b[39mself\u001b[39m\u001b[39m.\u001b[39munconfined \u001b[39m=\u001b[39m unconfined\n\u001b[0;32m    956\u001b[0m \u001b[39mself\u001b[39m\u001b[39m.\u001b[39malt \u001b[39m=\u001b[39m alt\n\u001b[1;32m--> 957\u001b[0m \u001b[39msuper\u001b[39;49m(Image, \u001b[39mself\u001b[39;49m)\u001b[39m.\u001b[39;49m\u001b[39m__init__\u001b[39;49m(data\u001b[39m=\u001b[39;49mdata, url\u001b[39m=\u001b[39;49murl, filename\u001b[39m=\u001b[39;49mfilename,\n\u001b[0;32m    958\u001b[0m         metadata\u001b[39m=\u001b[39;49mmetadata)\n\u001b[0;32m    960\u001b[0m \u001b[39mif\u001b[39;00m \u001b[39mself\u001b[39m\u001b[39m.\u001b[39mwidth \u001b[39mis\u001b[39;00m \u001b[39mNone\u001b[39;00m \u001b[39mand\u001b[39;00m \u001b[39mself\u001b[39m\u001b[39m.\u001b[39mmetadata\u001b[39m.\u001b[39mget(\u001b[39m'\u001b[39m\u001b[39mwidth\u001b[39m\u001b[39m'\u001b[39m, {}):\n\u001b[0;32m    961\u001b[0m     \u001b[39mself\u001b[39m\u001b[39m.\u001b[39mwidth \u001b[39m=\u001b[39m metadata[\u001b[39m'\u001b[39m\u001b[39mwidth\u001b[39m\u001b[39m'\u001b[39m]\n",
      "File \u001b[1;32m~\\AppData\\Roaming\\Python\\Python39\\site-packages\\IPython\\core\\display.py:327\u001b[0m, in \u001b[0;36mDisplayObject.__init__\u001b[1;34m(self, data, url, filename, metadata)\u001b[0m\n\u001b[0;32m    324\u001b[0m \u001b[39melif\u001b[39;00m \u001b[39mself\u001b[39m\u001b[39m.\u001b[39mmetadata \u001b[39mis\u001b[39;00m \u001b[39mNone\u001b[39;00m:\n\u001b[0;32m    325\u001b[0m     \u001b[39mself\u001b[39m\u001b[39m.\u001b[39mmetadata \u001b[39m=\u001b[39m {}\n\u001b[1;32m--> 327\u001b[0m \u001b[39mself\u001b[39;49m\u001b[39m.\u001b[39;49mreload()\n\u001b[0;32m    328\u001b[0m \u001b[39mself\u001b[39m\u001b[39m.\u001b[39m_check_data()\n",
      "File \u001b[1;32m~\\AppData\\Roaming\\Python\\Python39\\site-packages\\IPython\\core\\display.py:992\u001b[0m, in \u001b[0;36mImage.reload\u001b[1;34m(self)\u001b[0m\n\u001b[0;32m    990\u001b[0m \u001b[39m\"\"\"Reload the raw data from file or URL.\"\"\"\u001b[39;00m\n\u001b[0;32m    991\u001b[0m \u001b[39mif\u001b[39;00m \u001b[39mself\u001b[39m\u001b[39m.\u001b[39membed:\n\u001b[1;32m--> 992\u001b[0m     \u001b[39msuper\u001b[39;49m(Image,\u001b[39mself\u001b[39;49m)\u001b[39m.\u001b[39;49mreload()\n\u001b[0;32m    993\u001b[0m     \u001b[39mif\u001b[39;00m \u001b[39mself\u001b[39m\u001b[39m.\u001b[39mretina:\n\u001b[0;32m    994\u001b[0m         \u001b[39mself\u001b[39m\u001b[39m.\u001b[39m_retina_shape()\n",
      "File \u001b[1;32m~\\AppData\\Roaming\\Python\\Python39\\site-packages\\IPython\\core\\display.py:353\u001b[0m, in \u001b[0;36mDisplayObject.reload\u001b[1;34m(self)\u001b[0m\n\u001b[0;32m    351\u001b[0m \u001b[39mif\u001b[39;00m \u001b[39mself\u001b[39m\u001b[39m.\u001b[39mfilename \u001b[39mis\u001b[39;00m \u001b[39mnot\u001b[39;00m \u001b[39mNone\u001b[39;00m:\n\u001b[0;32m    352\u001b[0m     encoding \u001b[39m=\u001b[39m \u001b[39mNone\u001b[39;00m \u001b[39mif\u001b[39;00m \u001b[39m\"\u001b[39m\u001b[39mb\u001b[39m\u001b[39m\"\u001b[39m \u001b[39min\u001b[39;00m \u001b[39mself\u001b[39m\u001b[39m.\u001b[39m_read_flags \u001b[39melse\u001b[39;00m \u001b[39m\"\u001b[39m\u001b[39mutf-8\u001b[39m\u001b[39m\"\u001b[39m\n\u001b[1;32m--> 353\u001b[0m     \u001b[39mwith\u001b[39;00m \u001b[39mopen\u001b[39;49m(\u001b[39mself\u001b[39;49m\u001b[39m.\u001b[39;49mfilename, \u001b[39mself\u001b[39;49m\u001b[39m.\u001b[39;49m_read_flags, encoding\u001b[39m=\u001b[39;49mencoding) \u001b[39mas\u001b[39;00m f:\n\u001b[0;32m    354\u001b[0m         \u001b[39mself\u001b[39m\u001b[39m.\u001b[39mdata \u001b[39m=\u001b[39m f\u001b[39m.\u001b[39mread()\n\u001b[0;32m    355\u001b[0m \u001b[39melif\u001b[39;00m \u001b[39mself\u001b[39m\u001b[39m.\u001b[39murl \u001b[39mis\u001b[39;00m \u001b[39mnot\u001b[39;00m \u001b[39mNone\u001b[39;00m:\n\u001b[0;32m    356\u001b[0m     \u001b[39m# Deferred import\u001b[39;00m\n",
      "\u001b[1;31mPermissionError\u001b[0m: [Errno 13] Permission denied: 'C:\\\\Users\\\\JAIROL~1\\\\AppData\\\\Local\\\\Temp\\\\tmpcl1xx_bf.png'"
     ]
    }
   ],
   "source": [
    "hls4ml.utils.plot_model(hls_model, patht=patht, show_shapes=True, show_precision=True, to_file=None)"
   ]
  },
  {
   "cell_type": "markdown",
   "metadata": {},
   "source": [
    "## Compile, predict\n",
    "Now we need to check that this model performance is still good. We compile the hls_model, and then use `hls_model.predict` to execute the FPGA firmware with bit-accurate emulation on the CPU."
   ]
  },
  {
   "cell_type": "code",
   "execution_count": null,
   "metadata": {},
   "outputs": [],
   "source": [
    "hls_model.compile()\n",
    "X_test = np.ascontiguousarray(X_test)\n",
    "y_hls = hls_model.predict(X_test)"
   ]
  },
  {
   "cell_type": "markdown",
   "metadata": {},
   "source": [
    "## Compare\n",
    "That was easy! Now let's see how the performance compares to Keras:"
   ]
  },
  {
   "cell_type": "code",
   "execution_count": null,
   "metadata": {},
   "outputs": [],
   "source": [
    "print(\"Keras  Accuracy: {}\".format(accuracy_score(np.argmax(y_test, axis=1), np.argmax(y_keras, axis=1))))\n",
    "print(\"hls4ml Accuracy: {}\".format(accuracy_score(np.argmax(y_test, axis=1), np.argmax(y_hls, axis=1))))\n",
    "\n",
    "fig, ax = plt.subplots(figsize=(9, 9))\n",
    "_ = plotting.makeRoc(y_test, y_keras, le.classes_)\n",
    "plt.gca().set_prop_cycle(None) # reset the colors\n",
    "_ = plotting.makeRoc(y_test, y_hls, le.classes_, linestyle='--')\n",
    "\n",
    "from matplotlib.lines import Line2D\n",
    "lines = [Line2D([0], [0], ls='-'),\n",
    "         Line2D([0], [0], ls='--')]\n",
    "from matplotlib.legend import Legend\n",
    "leg = Legend(ax, lines, labels=['keras', 'hls4ml'],\n",
    "            loc='lower right', frameon=False)\n",
    "ax.add_artist(leg)"
   ]
  },
  {
   "cell_type": "markdown",
   "metadata": {},
   "source": [
    "## Synthesize\n",
    "Now we'll actually use Vivado HLS to synthesize the model. We can run the build using a method of our `hls_model` object.\n",
    "After running this step, we can integrate the generated IP into a workflow to compile for a specific FPGA board.\n",
    "In this case, we'll just review the reports that Vivado HLS generates, checking the latency and resource usage.\n",
    "\n",
    "**This can take several minutes.**\n",
    "\n",
    "While the C-Synthesis is running, we can monitor the progress looking at the log file by opening a terminal from the notebook home, and executing:\n",
    "\n",
    "`tail -f model_1/hls4ml_prj/vivado_hls.log`"
   ]
  },
  {
   "cell_type": "code",
   "execution_count": null,
   "metadata": {},
   "outputs": [],
   "source": [
    "hls_model.build(csim=False)"
   ]
  },
  {
   "cell_type": "markdown",
   "metadata": {},
   "source": [
    "## Check the reports\n",
    "Print out the reports generated by Vivado HLS. Pay attention to the Latency and the 'Utilization Estimates' sections"
   ]
  },
  {
   "cell_type": "code",
   "execution_count": null,
   "metadata": {},
   "outputs": [],
   "source": [
    "hls4ml.report.read_vivado_report('model_1/hls4ml_prj/')"
   ]
  },
  {
   "cell_type": "markdown",
   "metadata": {},
   "source": [
    "## Exercise\n",
    "Since `ReuseFactor = 1` we expect each multiplication used in the inference of our neural network to use 1 DSP. Is this what we see? (Note that the Softmax layer should use 5 DSPs, or 1 per class)\n",
    "Calculate how many multiplications are performed for the inference of this network...\n",
    "(We'll discuss the outcome)"
   ]
  }
 ],
 "metadata": {
  "kernelspec": {
   "display_name": "Python 3",
   "language": "python",
   "name": "python3"
  },
  "language_info": {
   "codemirror_mode": {
    "name": "ipython",
    "version": 3
   },
   "file_extension": ".py",
   "mimetype": "text/x-python",
   "name": "python",
   "nbconvert_exporter": "python",
   "pygments_lexer": "ipython3",
   "version": "3.9.5"
  },
  "vscode": {
   "interpreter": {
    "hash": "5fbe6bcee159ec8cb2183f4a21a53b4aee695b786aeceb6de84ef3166e05c101"
   }
  }
 },
 "nbformat": 4,
 "nbformat_minor": 4
}
